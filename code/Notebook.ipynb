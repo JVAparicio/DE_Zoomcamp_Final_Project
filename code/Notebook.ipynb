{
 "cells": [
  {
   "cell_type": "code",
   "execution_count": 2,
   "metadata": {},
   "outputs": [],
   "source": [
    "import os\n",
    "import pandas as pd"
   ]
  },
  {
   "cell_type": "code",
   "execution_count": 3,
   "metadata": {},
   "outputs": [],
   "source": [
    "dataset_file = \"2016-10-12T00-30-40.csv\"\n",
    "\n",
    "dataset_url = f\"https://gitlab.com/recommend.games/bgg-ranking-historicals/-/raw/master/{dataset_file}\"\n",
    "\n",
    "df = pd.read_csv(dataset_url, header=0 ,delimiter=(','), names=[\"ID\", \"Name\", \"Year\", \"Rank\", \"Average\", \"Bayes average\", \"Users rated\", \"URL\", \"Thumbnail\"], nrows=100)"
   ]
  },
  {
   "cell_type": "code",
   "execution_count": 4,
   "metadata": {},
   "outputs": [
    {
     "data": {
      "text/plain": [
       "ID                 int64\n",
       "Name              object\n",
       "Year               int64\n",
       "Rank               int64\n",
       "Average          float64\n",
       "Bayes average    float64\n",
       "Users rated        int64\n",
       "URL               object\n",
       "Thumbnail         object\n",
       "dtype: object"
      ]
     },
     "execution_count": 4,
     "metadata": {},
     "output_type": "execute_result"
    }
   ],
   "source": [
    "df.dtypes"
   ]
  },
  {
   "cell_type": "code",
   "execution_count": 32,
   "metadata": {},
   "outputs": [
    {
     "name": "stdout",
     "output_type": "stream",
     "text": [
      "https://gitlab.com/recommend.games/bgg-ranking-historicals/-/raw/master/2016-10-12T*.csv\n",
      "<Response [404]>\n"
     ]
    }
   ],
   "source": [
    "import requests\n",
    "\n",
    "base_url = \"https://gitlab.com/recommend.games/bgg-ranking-historicals/-/raw/master/\"\n",
    "\n",
    "file_name_prefix = f\"{2016:04d}-{10:02d}-{12:02d}T\"\n",
    "file_name_suffix = \".csv\"\n",
    "file_url = base_url + file_name_prefix + \"*\" + file_name_suffix\n",
    "\n",
    "\n",
    "\"2016-10-12T00-30-40.csv\"\n",
    "\n",
    "print(file_url)\n",
    "\n",
    "response = requests.get(file_url)\n",
    "\n",
    "print(response)"
   ]
  },
  {
   "cell_type": "code",
   "execution_count": 26,
   "metadata": {},
   "outputs": [
    {
     "name": "stdout",
     "output_type": "stream",
     "text": [
      "<Response [200]>\n"
     ]
    }
   ],
   "source": [
    "base_url = \"https://gitlab.com/recommend.games/bgg-ranking-historicals/-/tree/master\"\n",
    "\n",
    "response = requests.get(base_url)\n",
    "\n",
    "print(response)"
   ]
  },
  {
   "cell_type": "code",
   "execution_count": 5,
   "metadata": {},
   "outputs": [],
   "source": [
    "from pathlib import Path\n",
    "env_path = Path('.') / '.env'\n",
    "from dotenv import load_dotenv   #for python-dotenv method\n",
    "load_dotenv(dotenv_path=env_path) #for python-dotenv method\n",
    "\n",
    "import os \n",
    "\n",
    "gitlab_password = os.environ.get('gitlab_password')\n"
   ]
  },
  {
   "cell_type": "code",
   "execution_count": 3,
   "metadata": {},
   "outputs": [],
   "source": [
    "import gitlab\n",
    "# private token or personal token authentication\n",
    "gl = gitlab.Gitlab('https://gitlab.com', private_token=gitlab_password, api_version=4)\n",
    "gl.auth()\n",
    "\n",
    "project = gl.projects.get('recommend.games/bgg-ranking-historicals')\n",
    "items = project.repository_tree(get_all=True)\n",
    "\n",
    "\n",
    "\n",
    "file_dict = {file['name'] for file in items}\n"
   ]
  },
  {
   "cell_type": "code",
   "execution_count": 7,
   "metadata": {},
   "outputs": [
    {
     "data": {
      "text/plain": [
       "[1, 2, 3, 4, 5, 6, 7, 8, 9, 10, 11, 12]"
      ]
     },
     "execution_count": 7,
     "metadata": {},
     "output_type": "execute_result"
    }
   ],
   "source": [
    "months = list(range(1,13))\n",
    "\n",
    "months"
   ]
  }
 ],
 "metadata": {
  "kernelspec": {
   "display_name": "Python 3",
   "language": "python",
   "name": "python3"
  },
  "language_info": {
   "codemirror_mode": {
    "name": "ipython",
    "version": 3
   },
   "file_extension": ".py",
   "mimetype": "text/x-python",
   "name": "python",
   "nbconvert_exporter": "python",
   "pygments_lexer": "ipython3",
   "version": "3.10.6"
  },
  "orig_nbformat": 4,
  "vscode": {
   "interpreter": {
    "hash": "916dbcbb3f70747c44a77c7bcd40155683ae19c65e1c03b4aa3499c5328201f1"
   }
  }
 },
 "nbformat": 4,
 "nbformat_minor": 2
}
